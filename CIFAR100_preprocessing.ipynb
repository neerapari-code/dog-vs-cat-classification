{
  "cells": [
    {
      "cell_type": "markdown",
      "metadata": {
        "id": "view-in-github",
        "colab_type": "text"
      },
      "source": [
        "<a href=\"https://colab.research.google.com/github/neerapari-code/dog-vs-cat-classification/blob/main/CIFAR100_preprocessing.ipynb\" target=\"_parent\"><img src=\"https://colab.research.google.com/assets/colab-badge.svg\" alt=\"Open In Colab\"/></a>"
      ]
    },
    {
      "cell_type": "code",
      "execution_count": 2,
      "metadata": {
        "colab": {
          "base_uri": "https://localhost:8080/"
        },
        "id": "T7WgNONJqiZY",
        "outputId": "e99fd3d1-36c2-4997-9749-7b80b834bd72"
      },
      "outputs": [
        {
          "output_type": "execute_result",
          "data": {
            "text/plain": [
              "<contextlib.ExitStack at 0x798790b46250>"
            ]
          },
          "metadata": {},
          "execution_count": 2
        }
      ],
      "source": [
        "from __future__ import print_function, division\n",
        "\n",
        "import torch\n",
        "import torch.nn as nn\n",
        "import torch.optim as optim\n",
        "from torch.optim import lr_scheduler\n",
        "import numpy as np\n",
        "import torchvision\n",
        "from torchvision import datasets, models, transforms\n",
        "import matplotlib.pyplot as plt\n",
        "import time\n",
        "import os\n",
        "import copy\n",
        "\n",
        "plt.ion()   # interactive mode"
      ]
    },
    {
      "cell_type": "code",
      "execution_count": 4,
      "metadata": {
        "colab": {
          "base_uri": "https://localhost:8080/"
        },
        "id": "txxp5039qiZZ",
        "outputId": "55a0bbc6-c26a-49ed-fe35-8d607b972ea1"
      },
      "outputs": [
        {
          "output_type": "stream",
          "name": "stderr",
          "text": [
            "/usr/local/lib/python3.11/dist-packages/torchvision/models/_utils.py:208: UserWarning: The parameter 'pretrained' is deprecated since 0.13 and may be removed in the future, please use 'weights' instead.\n",
            "  warnings.warn(\n",
            "/usr/local/lib/python3.11/dist-packages/torchvision/models/_utils.py:223: UserWarning: Arguments other than a weight enum or `None` for 'weights' are deprecated since 0.13 and may be removed in the future. The current behavior is equivalent to passing `weights=ResNet18_Weights.IMAGENET1K_V1`. You can also use `weights=ResNet18_Weights.DEFAULT` to get the most up-to-date weights.\n",
            "  warnings.warn(msg)\n",
            "Downloading: \"https://download.pytorch.org/models/resnet18-f37072fd.pth\" to /root/.cache/torch/hub/checkpoints/resnet18-f37072fd.pth\n",
            "100%|██████████| 44.7M/44.7M [00:00<00:00, 190MB/s]\n"
          ]
        }
      ],
      "source": [
        "model = models.resnet18(pretrained=True)\n",
        "model.fc = nn.Identity()"
      ]
    },
    {
      "cell_type": "markdown",
      "metadata": {
        "id": "hf57NUrAqiZZ"
      },
      "source": [
        "model = models.inception_v3(pretrained=True)\n",
        "model.fc = nn.Identity()"
      ]
    },
    {
      "cell_type": "code",
      "execution_count": 5,
      "metadata": {
        "id": "rNSceO7FqiZb"
      },
      "outputs": [],
      "source": [
        "for param in model.parameters():\n",
        "    param.requires_grad = False"
      ]
    },
    {
      "cell_type": "code",
      "execution_count": 6,
      "metadata": {
        "id": "zh01cNtKqiZb"
      },
      "outputs": [],
      "source": [
        "data_transforms = {\n",
        "    'train': transforms.Compose([\n",
        "        transforms.Resize(299),\n",
        "        transforms.CenterCrop(299),\n",
        "        transforms.ToTensor(),\n",
        "        transforms.Normalize([0.485, 0.456, 0.406], [0.229, 0.224, 0.225])\n",
        "    ]),\n",
        "    'val': transforms.Compose([\n",
        "        transforms.Resize(299),\n",
        "        transforms.CenterCrop(299),\n",
        "        transforms.ToTensor(),\n",
        "        transforms.Normalize([0.485, 0.456, 0.406], [0.229, 0.224, 0.225])\n",
        "    ]),\n",
        "}"
      ]
    },
    {
      "cell_type": "code",
      "execution_count": 7,
      "metadata": {
        "colab": {
          "base_uri": "https://localhost:8080/"
        },
        "id": "GVCG06U7qiZb",
        "outputId": "09024c6e-9888-4f25-e3cf-2ae1a4682eb0"
      },
      "outputs": [
        {
          "output_type": "stream",
          "name": "stderr",
          "text": [
            "100%|██████████| 169M/169M [00:03<00:00, 48.9MB/s]\n"
          ]
        }
      ],
      "source": [
        "image_datasets = {x: datasets.CIFAR100(root='./data', train=(x=='train'), download=True,\n",
        "                                       transform=data_transforms[x]) for x in ['train', 'val']}\n",
        "# Create training and validation dataloaders\n",
        "dataloaders_dict = {x: torch.utils.data.DataLoader(image_datasets[x], batch_size=64, shuffle=False, num_workers=0) for x in ['train', 'val']}\n",
        "\n",
        "dataset_sizes = {x: len(image_datasets[x]) for x in ['train', 'val']}"
      ]
    },
    {
      "cell_type": "code",
      "execution_count": 8,
      "metadata": {
        "id": "4hlI9Ie4qiZc"
      },
      "outputs": [],
      "source": [
        "device = torch.device(\"cuda:0\" if torch.cuda.is_available() else \"cpu\")\n",
        "model = model.to(device)"
      ]
    },
    {
      "cell_type": "code",
      "execution_count": 9,
      "metadata": {
        "id": "jmlkJ02aqiZc"
      },
      "outputs": [],
      "source": [
        "def accu(model, dataloader):\n",
        "    model = model.eval()\n",
        "    acc = 0\n",
        "    total = 0\n",
        "    for data, target in dataloader:\n",
        "        o = model(data.to(device))\n",
        "        total += target.to(device).size(0)\n",
        "        acc += (o.argmax(dim=1).long() == target.to(device)).sum().item()\n",
        "    return acc / total"
      ]
    },
    {
      "cell_type": "code",
      "execution_count": 12,
      "metadata": {
        "colab": {
          "base_uri": "https://localhost:8080/"
        },
        "id": "mEY-ypEzqiZd",
        "outputId": "f334d13f-751e-45b4-c241-8c32238d2cd8"
      },
      "outputs": [
        {
          "output_type": "execute_result",
          "data": {
            "text/plain": [
              "2e-05"
            ]
          },
          "metadata": {},
          "execution_count": 12
        }
      ],
      "source": [
        "accu(model,dataloaders_dict['train'])"
      ]
    },
    {
      "cell_type": "code",
      "execution_count": 10,
      "metadata": {
        "colab": {
          "base_uri": "https://localhost:8080/"
        },
        "id": "jYoeHWVIqiZd",
        "outputId": "082a4716-9107-4a1b-a648-5c3ab08af538"
      },
      "outputs": [
        {
          "output_type": "execute_result",
          "data": {
            "text/plain": [
              "0.0"
            ]
          },
          "metadata": {},
          "execution_count": 10
        }
      ],
      "source": [
        "accu(model,dataloaders_dict['val'])"
      ]
    },
    {
      "cell_type": "code",
      "execution_count": 13,
      "metadata": {
        "id": "-L1tUE1WqiZe"
      },
      "outputs": [],
      "source": [
        "import pandas as pd\n",
        "features = []\n",
        "tags = []\n",
        "#model = model.to(device)\n",
        "with torch.no_grad():\n",
        "    for images, labels in dataloaders_dict['train']:\n",
        "        outputs = model(images.to(device))\n",
        "        features.append(outputs.cpu().data.numpy())\n",
        "        tags.append(labels.cpu().numpy())"
      ]
    },
    {
      "cell_type": "code",
      "execution_count": 14,
      "metadata": {
        "id": "QZh4B7cTqiZe"
      },
      "outputs": [],
      "source": [
        "train_feature = pd.concat([pd.DataFrame(x) for x in features],axis=0,ignore_index=True)\n",
        "train_label = np.concatenate(tags)\n",
        "train_label = pd.Series(train_label)"
      ]
    },
    {
      "cell_type": "code",
      "execution_count": 16,
      "metadata": {
        "id": "LfOR-bRLqiZe"
      },
      "outputs": [],
      "source": [
        "import os\n",
        "import pandas as pd\n",
        "\n",
        "# ... (your existing code) ...\n",
        "\n",
        "# Create the 'processed_data' directory if it doesn't exist\n",
        "os.makedirs('./processed_data', exist_ok=True)\n",
        "\n",
        "train_feature.to_csv('./processed_data/cifar100_train_resnet18.csv',index=False,header=False)\n",
        "train_label.to_csv('./processed_data/cifar100_train_label_resnet18.csv',index=False,header=False)"
      ]
    },
    {
      "cell_type": "code",
      "execution_count": 17,
      "metadata": {
        "id": "WcD64RE9qiZe"
      },
      "outputs": [],
      "source": [
        "features_test = []\n",
        "tags_test = []\n",
        "#model = model.to(device)\n",
        "with torch.no_grad():\n",
        "    for data, target in dataloaders_dict['val']:\n",
        "        outputs = model(data.to(device))\n",
        "        features_test.append(outputs.cpu().data.numpy())\n",
        "        tags_test.append(target.cpu().numpy())"
      ]
    },
    {
      "cell_type": "code",
      "execution_count": 18,
      "metadata": {
        "id": "43R2XCD_qiZf"
      },
      "outputs": [],
      "source": [
        "test_feature = pd.concat([pd.DataFrame(x) for x in features_test],axis=0,ignore_index=True)\n",
        "test_label = np.concatenate(tags_test)\n",
        "test_label = pd.Series(test_label)"
      ]
    },
    {
      "cell_type": "code",
      "execution_count": 19,
      "metadata": {
        "id": "Qj3dRHlUqiZf"
      },
      "outputs": [],
      "source": [
        "test_feature.to_csv('./processed_data/cifar100_test_resnet18.csv',index=False,header=False)\n",
        "test_label.to_csv('./processed_data/cifar100_test_label_resnet18.csv',index=False,header=False)"
      ]
    },
    {
      "cell_type": "code",
      "execution_count": null,
      "metadata": {
        "id": "Q67cEWBFqiZg"
      },
      "outputs": [],
      "source": []
    }
  ],
  "metadata": {
    "kernelspec": {
      "display_name": "Python 3",
      "name": "python3"
    },
    "language_info": {
      "codemirror_mode": {
        "name": "ipython",
        "version": 3
      },
      "file_extension": ".py",
      "mimetype": "text/x-python",
      "name": "python",
      "nbconvert_exporter": "python",
      "pygments_lexer": "ipython3",
      "version": "3.7.4"
    },
    "colab": {
      "provenance": [],
      "gpuType": "T4",
      "include_colab_link": true
    },
    "accelerator": "GPU"
  },
  "nbformat": 4,
  "nbformat_minor": 0
}